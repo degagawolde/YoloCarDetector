{
 "cells": [
  {
   "cell_type": "markdown",
   "metadata": {},
   "source": [
    "## Importing libraries"
   ]
  },
  {
   "cell_type": "code",
   "execution_count": null,
   "metadata": {},
   "outputs": [],
   "source": [
    "import cv2\n",
    "from ultralytics import YOLO\n",
    "import yt_dlp"
   ]
  },
  {
   "cell_type": "markdown",
   "metadata": {},
   "source": [
    "## Choose your model"
   ]
  },
  {
   "cell_type": "code",
   "execution_count": null,
   "metadata": {},
   "outputs": [],
   "source": [
    "model = YOLO(\"yolov8n.pt\")"
   ]
  },
  {
   "cell_type": "markdown",
   "metadata": {},
   "source": [
    "## Write a function to predict and detect objects in images and videos"
   ]
  },
  {
   "cell_type": "code",
   "execution_count": null,
   "metadata": {},
   "outputs": [],
   "source": [
    "def predict(chosen_model, img, classes=[], conf=0.5):\n",
    "    if classes:\n",
    "        results = chosen_model.predict(img, classes=classes, conf=conf)\n",
    "    else:\n",
    "        results = chosen_model.predict(img, conf=conf)\n",
    "\n",
    "    return results\n",
    "\n",
    "\n",
    "def predict_and_detect(chosen_model, img, classes=[], conf=0.5):\n",
    "    results = predict(chosen_model, img, classes, conf=conf)\n",
    "\n",
    "    for result in results:\n",
    "        for box in result.boxes:\n",
    "            cv2.rectangle(\n",
    "                img,\n",
    "                (int(box.xyxy[0][0]), int(box.xyxy[0][1])),\n",
    "                (int(box.xyxy[0][2]), int(box.xyxy[0][3])),\n",
    "                (255, 0, 0),\n",
    "                2,\n",
    "            )\n",
    "            cv2.putText(\n",
    "                img,\n",
    "                f\"{result.names[int(box.cls[0])]}\",\n",
    "                (int(box.xyxy[0][0]), int(box.xyxy[0][1]) - 10),\n",
    "                cv2.FONT_HERSHEY_PLAIN,\n",
    "                1,\n",
    "                (255, 0, 0),\n",
    "                1,\n",
    "            )\n",
    "    return img, results"
   ]
  },
  {
   "cell_type": "markdown",
   "metadata": {},
   "source": [
    "## Detecting Objects in Images with YOLOv8"
   ]
  },
  {
   "cell_type": "code",
   "execution_count": null,
   "metadata": {},
   "outputs": [],
   "source": [
    "# read the image\n",
    "image = cv2.imread(\"./care-images.jpg\")\n",
    "result_img, results = predict_and_detect(model, image, classes=[], conf=0.5)"
   ]
  },
  {
   "cell_type": "markdown",
   "metadata": {},
   "source": [
    "## Save and Plot the result Image\n"
   ]
  },
  {
   "cell_type": "code",
   "execution_count": null,
   "metadata": {},
   "outputs": [],
   "source": [
    "cv2.imshow(\"Image\", result_img)\n",
    "cv2.imwrite(\"detected.jpg\", result_img)\n",
    "cv2.waitKey(0)"
   ]
  },
  {
   "cell_type": "markdown",
   "metadata": {},
   "source": [
    "## Get video from youtube"
   ]
  },
  {
   "cell_type": "code",
   "execution_count": null,
   "metadata": {},
   "outputs": [],
   "source": [
    "def get_video_url(youtube_url):\n",
    "    ydl_opts = {\n",
    "        \"format\": \"best\",\n",
    "        \"noplaylist\": True,\n",
    "    }\n",
    "\n",
    "    with yt_dlp.YoutubeDL(ydl_opts) as ydl:\n",
    "        info_dict = ydl.extract_info(youtube_url, download=False)\n",
    "        video_url = info_dict.get(\"url\", None)\n",
    "        return video_url\n",
    "\n",
    "\n",
    "youtube_url = \"https://youtu.be/MNn9qKG2UFI?si=Pt6RE8dt17OV67ne\"\n",
    "video_url = get_video_url(youtube_url)"
   ]
  },
  {
   "cell_type": "markdown",
   "metadata": {},
   "source": [
    "## Detecting Objects in Videos with YOLOv8"
   ]
  },
  {
   "cell_type": "code",
   "execution_count": null,
   "metadata": {},
   "outputs": [],
   "source": [
    "# Open video capture with OpenCV\n",
    "cap = cv2.VideoCapture(video_url)\n",
    "\n",
    "while True:\n",
    "    ret, frame = cap.read()\n",
    "    if not ret:\n",
    "        break\n",
    "\n",
    "    # Process the frame as required (e.g., passing to YOLO)\n",
    "    result_img, _ = predict_and_detect(model, frame, classes=[], conf=0.5)\n",
    "    cv2.imshow(\"Video\", result_img)\n",
    "\n",
    "    if cv2.waitKey(1) & 0xFF == ord(\"q\"):  # Press 'q' to exit\n",
    "        break\n",
    "\n",
    "cap.release()\n",
    "cv2.destroyAllWindows()"
   ]
  }
 ],
 "metadata": {
  "kernelspec": {
   "display_name": "yolo",
   "language": "python",
   "name": "python3"
  },
  "language_info": {
   "codemirror_mode": {
    "name": "ipython",
    "version": 3
   },
   "file_extension": ".py",
   "mimetype": "text/x-python",
   "name": "python",
   "nbconvert_exporter": "python",
   "pygments_lexer": "ipython3",
   "version": "3.12.5"
  }
 },
 "nbformat": 4,
 "nbformat_minor": 2
}
